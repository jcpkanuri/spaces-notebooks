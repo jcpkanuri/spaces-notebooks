{
  "cells": [
    {
      "cell_type": "markdown",
      "id": "574444dd-dce1-4658-b7a0-74d4ed39620c",
      "metadata": {},
      "source": [
        "<div id=\"singlestore-header\" style=\"display: flex; background-color: rgba(210, 255, 153, 0.25); padding: 5px;\">\n",
        "    <div id=\"icon-image\" style=\"width: 90px; height: 90px;\">\n",
        "        <img width=\"100%\" height=\"100%\" src=\"https://raw.githubusercontent.com/singlestore-labs/spaces-notebooks/master/common/images/header-icons/chart-network.png\" />\n",
        "    </div>\n",
        "    <div id=\"text\" style=\"padding: 5px; margin-left: 10px;\">\n",
        "        <div id=\"badge\" style=\"display: inline-block; background-color: rgba(0, 0, 0, 0.15); border-radius: 4px; padding: 4px 8px; align-items: center; margin-top: 6px; margin-bottom: -2px; font-size: 80%\">SingleStore Notebooks</div>\n",
        "        <h1 style=\"font-weight: 500; margin: 8px 0 0 4px;\">SingleStore April Challenge: Haiku ASCII</h1>\n",
        "    </div>\n",
        "</div>"
      ]
    },
    {
      "attachments": {},
      "cell_type": "markdown",
      "id": "192680e4-9009-4bb2-8053-2b8e81517eff",
      "metadata": {},
      "source": [
        "## \ud83d\udce3 SingleStore's Creative Challenge for #NationalPoetryMonth: *Win RayBan Smart sunglasses \ud83d\ude0e and a $500 AWS gift card! \ud83d\udcb8*"
      ]
    },
    {
      "cell_type": "markdown",
      "id": "6b38d13c-506e-4c68-8446-f99df09e1757",
      "metadata": {},
      "source": [
        "---\n",
        "\n",
        "\n",
        "### This notebook can be run on the SingleStore Free Shared Tier Workspace.\n",
        "To create a Shared Tier Workspace, please visit: https://www.singlestore.com/cloud-trial\n",
        "\n",
        "---\n",
        "\n",
        "#### \ud83c\udf89 All throughout April, SingleStore is hosting a challenge inviting participants to craft a unique Haiku or create captivating ASCII art using SingleStore Notebooks. The most creative masterpiece wins a set of Meta RayBan Smart sunglasses and a $500 AWS gift card!\n",
        "\n",
        "---\n",
        "\n",
        "#### \u27a1\ufe0f Steps to Participate\n",
        "\n",
        "\u2705 Activate your Free Shared Tier with SingleStore here: https://www.singlestore.com/cloud-trial\n",
        "\n",
        "\u2705 Create your artistic masterpiece in a SingleStore Notebook, drawing inspiration from this example Notebook and your unique vision.\n",
        "\n",
        "\u2705 Share a Github link to your notebook by April 30, 2024: https://docs.google.com/forms/d/e/1FAIpQLSdXcvzSxtTtHYxRG40Pc5HVknxu6EbngDrsX6ukzkEbRu26ww/viewform\n",
        "\n",
        "\u2705 Make sure to tag @SingleStore and use #SingleStorePoetry when sharing your work on LinkedIn/X\n",
        "\n",
        "---\n",
        "\n",
        "#### For questions about this contest or SingleStore Notebooks, use our dedicated Discord channel: https://discord.gg/re56Fwyd\n",
        "\n",
        "---"
      ]
    },
    {
      "attachments": {},
      "cell_type": "markdown",
      "id": "54676c95-d210-42d3-9dab-2a660b0fd901",
      "metadata": {},
      "source": [
        "Feel free to make changes to this starter code to generate a Haiku and ASCII art. The below code consists of two main parts:\n",
        "\n",
        "1. Generating a Haiku: The generate_haiku function creates a simple haiku using pre-defined lists of phrases that correspond to the traditional 5-7-5 syllable structure of haikus. This function randomly selects one phrase from each list to construct the haiku.\n",
        "\n",
        "2. Visualizing the Haiku: The visualize_haiku function uses matplotlib to create a visualization of the generated haiku. It sets up a figure with a custom background color, hides the axes for a cleaner look, and displays the haiku text in the center with a styled bounding box around it."
      ]
    },
    {
      "cell_type": "code",
      "execution_count": 1,
      "id": "a30655d6-9180-467c-aab9-0fc70ce50812",
      "metadata": {},
      "outputs": [],
      "source": [
        "!pip install matplotlib --quiet"
      ]
    },
    {
      "attachments": {},
      "cell_type": "markdown",
      "id": "08d1b7fb-bf75-4157-a615-3e798708cb85",
      "metadata": {},
      "source": [
        "### Generating a Haiku with Seasonal Transitions"
      ]
    },
    {
      "cell_type": "code",
      "execution_count": 2,
      "id": "5f4d1299-17c2-47ae-9875-1870320f6e8c",
      "metadata": {},
      "outputs": [],
      "source": [
        "import numpy as np\n",
        "import matplotlib.pyplot as plt\n",
        "from matplotlib.colors import LinearSegmentedColormap\n",
        "import matplotlib.image as mpimg  # Import for loading the logo image\n",
        "import requests  # Import requests to download the logo\n",
        "from PIL import Image  # Import PIL to handle the image\n",
        "from io import BytesIO  # Import BytesIO to handle the image as a byte stream\n",
        "\n",
        "# Seasonal Transition Haiku Generator\n",
        "def generate_seasonal_transition_haiku():\n",
        "    seasons = [\"Winter\", \"Spring\", \"Summer\", \"Fall\"]\n",
        "    transitions = {\n",
        "        (\"Winter\", \"Spring\"): [\n",
        "            \"Data thaws with grace,\",  # 5 syllables\n",
        "            \"Queries swiftly bloom, unfurl,\",  # 7 syllables\n",
        "            \"Insight crisp and clear.\"  # 5 syllables\n",
        "        ],\n",
        "        (\"Spring\", \"Summer\"): [\n",
        "            \"Insights grow in light,\",  # 5 syllables\n",
        "            \"Data scales the bright, warm sun,\",  # 7 syllables\n",
        "            \"Wisdom on full show.\"  # 5 syllables\n",
        "        ],\n",
        "        (\"Summer\", \"Fall\"): [\n",
        "            \"Leaves of data turn,\",  # 5 syllables\n",
        "            \"Decisions ripe and well-earned,\",  # 7 syllables\n",
        "            \"Change whispers anew.\"  # 5 syllables\n",
        "        ],\n",
        "        (\"Fall\", \"Winter\"): [\n",
        "            \"Data's frost sets in,\",  # 5 syllables\n",
        "            \"Vector cycles glean insights,\",  # 7 syllables\n",
        "            \"Silence holds the keys.\"  # 5 syllables\n",
        "        ],\n",
        "    }\n",
        "\n",
        "    # Randomly select a transition\n",
        "    start_season = np.random.choice(seasons)\n",
        "    end_season = seasons[(seasons.index(start_season) + 1) % len(seasons)]\n",
        "\n",
        "    haiku_lines = transitions[(start_season, end_season)]\n",
        "\n",
        "    return haiku_lines, start_season, end_season\n",
        "\n",
        "# Visualization with Gradient\n",
        "def visualize_seasonal_transition(haiku, start_season, end_season):\n",
        "    fig, ax = plt.subplots(figsize=(10, 6))\n",
        "    ax.axis('off')\n",
        "\n",
        "    # Seasonal Colors\n",
        "    colors = {\n",
        "        \"Winter\": \"#ffffff\",\n",
        "        \"Spring\": \"#4caf50\",\n",
        "        \"Summer\": \"#ffa726\",\n",
        "        \"Fall\": \"#fb8c00\"\n",
        "    }\n",
        "\n",
        "    # Create Gradient\n",
        "    cmap = LinearSegmentedColormap.from_list(\"season_transition\", [colors[start_season], colors[end_season]])\n",
        "    gradient = np.linspace(0, 1, 256)\n",
        "    gradient = np.vstack((gradient, gradient))\n",
        "\n",
        "    ax.imshow(gradient, aspect='auto', cmap=cmap, extent=[0, 10, 0, 10])\n",
        "\n",
        "    # Display Haiku\n",
        "    ax.text(5, 5, \"\\n\".join(haiku), ha='center', va='center', fontsize=14, color=\"black\")\n",
        "\n",
        "    # Download the logo\n",
        "    logo_url = \"https://raw.githubusercontent.com/singlestore-labs/spaces-notebooks/master/common/images/singlestore-logo-vertical.png\"\n",
        "    response = requests.get(logo_url)\n",
        "    logo_img = Image.open(BytesIO(response.content))\n",
        "\n",
        "    # Convert the Image object to a NumPy array and display it\n",
        "    logo = np.array(logo_img)\n",
        "    ax_logo = fig.add_axes([0.75, -0.05, 0.15, 0.15])  # Adjust these values to position and scale the logo\n",
        "    ax_logo.imshow(logo)\n",
        "    ax_logo.axis('off')  # Hide the axis of the logo subplot\n",
        "\n",
        "    plt.show()\n",
        "\n",
        "# Generate and Visualize\n",
        "haiku, start_season, end_season = generate_seasonal_transition_haiku()\n",
        "visualize_seasonal_transition(haiku, start_season, end_season)"
      ]
    },
    {
      "attachments": {},
      "cell_type": "markdown",
      "id": "0da8f807-9174-4493-a532-3e5166b092f2",
      "metadata": {},
      "source": [
        "## ASCII Art Generation"
      ]
    },
    {
      "cell_type": "markdown",
      "id": "0a340f24-f704-4bc2-bace-7b87cdf3d1b8",
      "metadata": {},
      "source": [
        "#### Note that you might have to add the URL to firewall when asked to do so, to be able to access your input image in the below code"
      ]
    },
    {
      "cell_type": "code",
      "execution_count": 3,
      "id": "48335134-f5d9-42d9-bc98-68ba0e97f47d",
      "metadata": {},
      "outputs": [],
      "source": [
        "!pip install Pillow requests --quiet"
      ]
    },
    {
      "cell_type": "code",
      "execution_count": 4,
      "id": "9f3a0969-7aa9-4807-94cd-a915d327a258",
      "metadata": {},
      "outputs": [],
      "source": [
        "import requests\n",
        "from PIL import Image\n",
        "from io import BytesIO\n",
        "\n",
        "# Define the ASCII characters that will be used to replace the pixels.\n",
        "ASCII_CHARS = [\"@\", \"#\", \"S\", \"%\", \"?\", \"*\", \"+\", \";\", \":\", \",\", \".\"]\n",
        "\n",
        "def resize_image(image, new_width=100):\n",
        "    width, height = image.size\n",
        "    ratio = height / width / 1.65  # Correct for aspect ratio\n",
        "    new_height = int(new_width * ratio)\n",
        "    resized_image = image.resize((new_width, new_height))\n",
        "    return resized_image\n",
        "\n",
        "def grayify(image):\n",
        "    grayscale_image = image.convert(\"L\")\n",
        "    return grayscale_image\n",
        "\n",
        "def pixels_to_ascii(image):\n",
        "    pixels = image.getdata()\n",
        "    ascii_str = ''\n",
        "    for pixel in pixels:\n",
        "        ascii_str += ASCII_CHARS[pixel // 25]  # Map the pixel value to ASCII_CHARS\n",
        "    return ascii_str\n",
        "\n",
        "def process_image_from_url(image_url, new_width=100):\n",
        "    # Fetch the image from the URL\n",
        "    response = requests.get(image_url)\n",
        "    if response.status_code == 200:\n",
        "        # Open the image from the bytes in response content\n",
        "        image = Image.open(BytesIO(response.content))\n",
        "\n",
        "        # Process the image\n",
        "        image = resize_image(image, new_width)\n",
        "        image = grayify(image)\n",
        "        ascii_str = pixels_to_ascii(image)\n",
        "\n",
        "        # Format the ASCII string so that each line has `new_width` characters.\n",
        "        img_width = image.width\n",
        "        ascii_str_len = len(ascii_str)\n",
        "        ascii_img = \"\"\n",
        "        for i in range(0, ascii_str_len, img_width):\n",
        "            ascii_img += ascii_str[i:i+img_width] + \"\\n\"\n",
        "\n",
        "        # Print the ASCII art\n",
        "        print(ascii_img)\n",
        "    else:\n",
        "        print(\"Failed to retrieve the image from the URL\")\n",
        "\n",
        "# Example usage with a public image URL\n",
        "image_url = 'https://raw.githubusercontent.com/singlestore-labs/spaces-notebooks/master/common/images/singlestore-banner.png'  # Replace with your image's URL\n",
        "process_image_from_url(image_url, 100)"
      ]
    },
    {
      "attachments": {},
      "cell_type": "markdown",
      "id": "df3b8c8d-3f85-4885-b090-13ed74e451a7",
      "metadata": {},
      "source": [
        "---\n",
        "\n",
        "#### \u27a1\ufe0f Next Steps:\n",
        "\n",
        "\u2705 Share a Github link to your notebook by April 30, 2024: https://docs.google.com/forms/d/e/1FAIpQLSdXcvzSxtTtHYxRG40Pc5HVknxu6EbngDrsX6ukzkEbRu26ww/viewform\n",
        "\n",
        "\u2705 Make sure to tag @SingleStore and use #SingleStorePoetry when sharing your work on LinkedIn/X"
      ]
    },
    {
      "cell_type": "markdown",
      "id": "46fc1d5d-491a-4ce4-9d0d-fb8564d07fd4",
      "metadata": {},
      "source": [
        "<div id=\"singlestore-footer\" style=\"background-color: rgba(194, 193, 199, 0.25); height:2px; margin-bottom:10px\"></div>\n",
        "<div><img src=\"https://raw.githubusercontent.com/singlestore-labs/spaces-notebooks/master/common/images/singlestore-logo-grey.png\" style=\"padding: 0px; margin: 0px; height: 24px\"/></div>"
      ]
    }
  ],
  "metadata": {
    "jupyterlab": {
      "notebooks": {
        "version_major": 6,
        "version_minor": 4
      }
    },
    "kernelspec": {
      "display_name": "Python 3 (ipykernel)",
      "language": "python",
      "name": "python3"
    },
    "language_info": {
      "codemirror_mode": {
        "name": "ipython",
        "version": 3
      },
      "file_extension": ".py",
      "mimetype": "text/x-python",
      "name": "python",
      "nbconvert_exporter": "python",
      "pygments_lexer": "ipython3",
      "version": "3.11.6"
    }
  },
  "nbformat": 4,
  "nbformat_minor": 5
}
